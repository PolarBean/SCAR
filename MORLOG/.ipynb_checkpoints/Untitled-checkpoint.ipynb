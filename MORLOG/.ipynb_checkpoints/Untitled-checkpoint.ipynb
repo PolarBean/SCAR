{
 "cells": [
  {
   "cell_type": "code",
   "execution_count": 173,
   "metadata": {},
   "outputs": [],
   "source": [
    "from __future__ import unicode_literals\n",
    "from enum import unique\n",
    "\n",
    "import sys\n",
    "import math\n",
    "\n",
    "import numpy as np\n",
    "# from . import Progress\n",
    "# from .colors import color\n",
    "\n",
    "def bin_behaviour(behaviour, behaviour_name):\n",
    "    behaviour_len = len(behaviour)\n",
    "    #total_length should be 60 (with each bin having three sub bins)\n",
    "    total_bins = 180\n",
    "    bin_size = math.ceil(len(behaviour)/total_bins)\n",
    "    behaviour_locations = behaviour==behaviour_name\n",
    "    behaviour_binned = [np.sum(behaviour_locations[(bin*bin_size):(bin+1)*bin_size]) for bin in range(total_bins)]\n",
    "    total_bins = math.floor(len(behaviour_binned)/3)\n",
    "    behaviour_binned = [tuple(behaviour_binned[(bin*3):(bin+1)*3]) for bin in range(60)]\n",
    "    return behaviour_binned\n",
    "\n",
    "\n",
    "def behaviour_convert(behaviour):\n",
    "    behaviour_dict = dict({tuple([0, 0, 0]):'∙', tuple([1, 0, 0]):'⎸',\\\n",
    "                           tuple([0, 0, 1]):'⎹', tuple([1, 1, 0]):'⊩',\\\n",
    "                           tuple([0, 1, 1]):'⫣', tuple([1, 0, 1]):'‖',\\\n",
    "                           tuple([1, 1, 1]):'⦀', tuple([0, 1, 0]):'|'})\n",
    "    max_behaviour = max(behaviour)\n",
    "    if max_behaviour<=1:\n",
    "        behaviour=behaviour_dict[behaviour]\n",
    "    else:\n",
    "        if sum(behaviour)==2:\n",
    "            behaviour = '‖'\n",
    "        else:\n",
    "            behaviour='⦀'\n",
    "    return behaviour\n",
    "\n",
    "            \n",
    "def behaviour_timeline(behaviour):\n",
    "\n",
    "\n",
    "    behaviour_bar = [behaviour_convert(i) for i in behaviour]\n",
    "    return ''.join(behaviour_bar)\n",
    "\n",
    "def create_all_behaviour_bars(behaviour, behaviour_names_restrict):\n",
    "    behaviour_names = behaviour.unique()\n",
    "    ##drop na and nothing\n",
    "    behaviour_names = [i for i in filter(lambda v: v==v, behaviour_names) if i in behaviour_names_restrict]\n",
    "    behaviour_bar_block = []\n",
    "    for name in behaviour_names:\n",
    "          print(name)\n",
    "          behaviour_select = bin_behaviour(behaviour, name)\n",
    "          \n",
    "          name = name[:9]\n",
    "          name+=(9-len(name))*' '\n",
    "          behaviour_bar_block.append('{}: '.format(name))\n",
    "          behaviour_bar_block.append(behaviour_timeline(behaviour_select))  \n",
    "          behaviour_bar_block.append('  {} \\n'.format(np.sum(behaviour_select)))\n",
    "    return ''.join(behaviour_bar_block)"
   ]
  },
  {
   "cell_type": "code",
   "execution_count": 185,
   "metadata": {},
   "outputs": [],
   "source": [
    "import pandas as pd\n",
    "bianca = pd.read_csv(r'C:\\Users\\harry\\Documents\\Manually-Labelled-Raw-Data\\r2/M5.4(Cam10)_20200722-185620_scored_behaviour.csv').hit\n",
    "rhianne = pd.read_csv(r'C:\\Users\\harry\\Documents\\Manually-Labelled-Raw-Data\\bianca/5-4_BW_20200722-152102_scored_behaviour.csv').hit\n",
    "lstm   = pd.read_csv('c:/users/harry/desktop/5.4_test__smoothed_lstm_analysed.csv').hits"
   ]
  },
  {
   "cell_type": "code",
   "execution_count": 186,
   "metadata": {},
   "outputs": [
    {
     "name": "stdout",
     "output_type": "stream",
     "text": [
      "tremor\n",
      "tremor\n",
      "tremors\n"
     ]
    }
   ],
   "source": [
    "bianca = create_all_behaviour_bars(bianca,   ['pawtremor', 'tremors', 'tremor'])\n",
    "rhianne = create_all_behaviour_bars(rhianne, ['pawtremor', 'tremors', 'tremor'])\n",
    "lstm = create_all_behaviour_bars(lstm, ['pawtremor', 'tremors', 'tremor'])"
   ]
  },
  {
   "cell_type": "code",
   "execution_count": 187,
   "metadata": {},
   "outputs": [
    {
     "name": "stdout",
     "output_type": "stream",
     "text": [
      "tremor   : ∙∙∙∙∙∙∙∙∙∙∙∙∙∙∙∙∙∙∙∙∙∙∙∙∙∙∙∙∙∙∙∙∙∙∙∙∙∙∙∙∙∙⦀⦀⦀|⦀⦀∙∙∙∙∙∙⎹⦀∙∙⦀⦀  63 \n",
      "\n",
      "tremor   : ∙∙∙∙∙∙⎸∙∙∙∙∙∙∙∙∙∙∙∙⎸∙∙∙∙∙∙∙∙∙∙∙∙∙∙∙∙∙∙∙∙⎸∙⦀⦀⦀|⦀⦀⦀∙∙∙∙∙∙∙∙∙⎸‖  42 \n",
      "\n",
      "tremors  : ∙∙∙∙∙∙⎸∙∙∙∙⫣∙⎸∙∙∙∙∙‖⦀⊩∙||∙⦀⎹⎸⦀∙∙|∙|⫣∙||∙∙∙‖⦀⎸⎹⦀⦀⎸∙‖∙∙⎹⎸⦀⎹⎸⦀∙  60 \n",
      "\n"
     ]
    }
   ],
   "source": [
    "print(bianca)\n",
    "print(rhianne)\n",
    "print(lstm)"
   ]
  },
  {
   "cell_type": "code",
   "execution_count": null,
   "metadata": {},
   "outputs": [],
   "source": [
    "import pyttsx3\n",
    "import tkinter\n",
    "class doorbell:\n",
    "    def __init__(self, window, window_title):\n",
    "        window = window\n",
    "        window.title(window_title)\n",
    "        button_frame = tkinter.Frame(window)\n",
    "        button_frame.pack()\n",
    "\n",
    "        doorbell = tkinter.Button(button_frame, text = \"Ring the Bell\", \\\n",
    "                                  command= lambda: self.loop_voice(\"Do not kiss me, I have a girlfriend\"))\n",
    "        stop = tkinter.Button(button_frame, text = \"I'll leave\", \\\n",
    "                                  command= lambda: self.stop_voice())\n",
    "        doorbell.pack()\n",
    "        window.mainloop()\n",
    "\n",
    "    def loop_voice(self, text):\n",
    "        engine = pyttsx3.init()\n",
    "        engine.say(text)\n",
    "        engine.runAndWait()\n",
    "    def stop_voice():\n",
    "        engine.stop()\n",
    "if __name__ == \"__main__\":\n",
    "    # stuff only to run when not called via 'import' here\n",
    "    # Create a window and pass it to the Application object\n",
    "    win = tkinter.Tk()\n",
    "    doorbell(win, \"Abby's Doorbell\")"
   ]
  },
  {
   "cell_type": "code",
   "execution_count": null,
   "metadata": {},
   "outputs": [],
   "source": []
  }
 ],
 "metadata": {
  "kernelspec": {
   "display_name": "Python 3",
   "language": "python",
   "name": "python3"
  },
  "language_info": {
   "codemirror_mode": {
    "name": "ipython",
    "version": 3
   },
   "file_extension": ".py",
   "mimetype": "text/x-python",
   "name": "python",
   "nbconvert_exporter": "python",
   "pygments_lexer": "ipython3",
   "version": "3.8.2"
  }
 },
 "nbformat": 4,
 "nbformat_minor": 4
}
