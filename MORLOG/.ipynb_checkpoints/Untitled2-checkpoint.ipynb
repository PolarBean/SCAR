{
 "cells": [
  {
   "cell_type": "code",
   "execution_count": 1,
   "metadata": {},
   "outputs": [],
   "source": [
    "import matplotlib.pyplot as plt\n",
    "import pandas as pd\n",
    "import numpy as np"
   ]
  },
  {
   "cell_type": "code",
   "execution_count": 2,
   "metadata": {},
   "outputs": [],
   "source": [
    "def pad(arr1, arr2):\n",
    "    max_num = max((len(arr1),len(arr2)))\n",
    "    if len(arr1)<max_num:\n",
    "        ext =  [arr1[-1]]*(max_num-len(arr1))\n",
    "        ext = np.array(ext)\n",
    "        arr1 = np.append(arr1,ext)\n",
    "    if len(arr2)<max_num:\n",
    "        ext =  [arr2[-1]]*(max_num-len(arr2))\n",
    "        ext = np.array(ext)\n",
    "        arr2 = np.append(arr2,ext)\n",
    "    return arr1, arr2\n",
    "    "
   ]
  },
  {
   "cell_type": "code",
   "execution_count": 13,
   "metadata": {},
   "outputs": [],
   "source": []
  },
  {
   "cell_type": "code",
   "execution_count": 15,
   "metadata": {},
   "outputs": [],
   "source": []
  },
  {
   "cell_type": "code",
   "execution_count": null,
   "metadata": {},
   "outputs": [],
   "source": [
    "folder = r'C:\\Users\\harry\\Documents\\biancav_newlstm_raster/'\n"
   ]
  },
  {
   "cell_type": "code",
   "execution_count": 34,
   "metadata": {},
   "outputs": [
    {
     "name": "stderr",
     "output_type": "stream",
     "text": [
      "<ipython-input-34-a0d028860347>:12: UserWarning: Matplotlib is currently using module://ipykernel.pylab.backend_inline, which is a non-GUI backend, so cannot show the figure.\n",
      "  fig.show()\n"
     ]
    },
    {
     "data": {
      "image/png": "[encoded data removed]",
      "text/plain": [
       "<Figure size 432x288 with 2 Axes>"
      ]
     },
     "metadata": {
      "needs_background": "light"
     },
     "output_type": "display_data"
    }
   ],
   "source": [
    "\n",
    "lstm_file = pd.read_csv(folder+'harry_validated_lstm_animal_7_4_20210107-214951_scored_behaviour.csv')\n",
    "bianca_file = pd.read_csv(folder+'normalised_files7-4_BW_20200724-145600_scored_behaviour.csv')\n",
    "\n",
    "\n",
    "lstm_file_hits = np.where(lstm_file.hits=='trem')\n",
    "bianca_file_hits = np.where(bianca_file.hits=='tremors')\n",
    "lstm_file_behaviour = np.where(lstm_file.behaviour=='trem')\n",
    "bianca_file_behaviour = np.where(bianca_file.behaviour=='tremors')\n",
    "\n",
    "fig, axs = plt.subplots(2)\n",
    "hitarr1, hitarr2 = pad(lstm_file_hits[0],bianca_file_hits[0])\n",
    "axs[0].eventplot(np.stack((hitarr1, hitarr2)), colors = ['red', 'blue'])\n",
    "axs[0].set_title('frequency')\n",
    "beharr1, beharr2 = pad(lstm_file_behaviour[0],bianca_file_behaviour[0])\n",
    "axs[1].eventplot(np.stack((beharr1, beharr2)), colors = ['red', 'blue'])\n",
    "axs[1].set_title('duration')\n",
    "fig.legend(['lstm', 'bianca'], ncol=2)\n",
    "fig.suptitle('7.4 comparison')\n",
    "fig.tight_layout()\n",
    "fig.savefig('7_4_comparison.jpg', dpi=300)\n",
    "fig.show()"
   ]
  },
  {
   "cell_type": "code",
   "execution_count": 30,
   "metadata": {},
   "outputs": [
    {
     "data": {
      "text/plain": [
       "'C:\\\\Users\\\\harry\\\\SCAR\\\\MORLOG'"
      ]
     },
     "execution_count": 30,
     "metadata": {},
     "output_type": "execute_result"
    }
   ],
   "source": [
    "fig, axs = plt.subplots(2)\n",
    "hitarr1, hitarr2 = pad(lstm_file_hits[0],bianca_file_hits[0])\n",
    "axs[0].eventplot(np.stack((hitarr1, hitarr2)), colors = ['red', 'blue'])\n",
    "axs[0].set_title('frequency')\n",
    "beharr1, beharr2 = pad(lstm_file_behaviour[0],bianca_file_behaviour[0])\n",
    "axs[1].eventplot(np.stack((beharr1, beharr2)), colors = ['red', 'blue'])\n",
    "axs[1].set_title('duration')\n",
    "fig.legend(['lstm', 'bianca'], ncol=2)\n",
    "fig.suptitle('7.4 comparison')\n",
    "fig.tight_layout()\n",
    "fig.savefig('7_4_comparison.jpg', dpi=300)"
   ]
  },
  {
   "cell_type": "code",
   "execution_count": null,
   "metadata": {},
   "outputs": [],
   "source": []
  },
  {
   "cell_type": "code",
   "execution_count": 40,
   "metadata": {},
   "outputs": [
    {
     "data": {
      "text/plain": [
       "(29,)"
      ]
     },
     "execution_count": 40,
     "metadata": {},
     "output_type": "execute_result"
    }
   ],
   "source": []
  },
  {
   "cell_type": "code",
   "execution_count": null,
   "metadata": {},
   "outputs": [],
   "source": []
  }
 ],
 "metadata": {
  "kernelspec": {
   "display_name": "Python 3",
   "language": "python",
   "name": "python3"
  },
  "language_info": {
   "codemirror_mode": {
    "name": "ipython",
    "version": 3
   },
   "file_extension": ".py",
   "mimetype": "text/x-python",
   "name": "python",
   "nbconvert_exporter": "python",
   "pygments_lexer": "ipython3",
   "version": "3.8.2"
  }
 },
 "nbformat": 4,
 "nbformat_minor": 4
}
