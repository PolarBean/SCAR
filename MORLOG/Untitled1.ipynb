{
 "cells": [
  {
   "cell_type": "code",
   "execution_count": 240,
   "metadata": {},
   "outputs": [],
   "source": [
    "import pandas as pd\n",
    "import cupy as cp\n",
    "import numpy as np\n",
    "from tqdm import tqdm"
   ]
  },
  {
   "cell_type": "code",
   "execution_count": 241,
   "metadata": {},
   "outputs": [],
   "source": [
    "\n",
    "bianca = [r'C:\\Users\\harry\\Documents\\b/m5-2_BW_20200715-115613_scored_behaviour.csv',r'C:\\Users\\harry\\Documents\\b/f10-2_BW_20200715-162501_scored_behaviour.csv',r'C:\\Users\\harry\\Documents\\b/f6-4_BW_20200715-192131_scored_behaviour.csv']\n",
    "\n",
    "rhianne =[r'C:\\Users\\harry\\Documents\\r/M5.2_20200715-101855_scored_behaviour.csv',r'C:\\Users\\harry\\Documents\\r/F10.2_20200715-112538_scored_behaviour.csv',r'C:\\Users\\harry\\Documents\\r/F6.4_20200715-124501_scored_behaviour.csv']\n",
    "\n"
   ]
  },
  {
   "cell_type": "code",
   "execution_count": 243,
   "metadata": {},
   "outputs": [],
   "source": [
    "dtypes= {'frame':int, 'behaviour':str, 'hit':str, 'values':str, 'freq':float}\n",
    "rhianne_df=pd.DataFrame({})\n",
    "bianca_df=pd.DataFrame({})\n",
    "for i in range(len(bianca)):\n",
    "    rhianne_pd = pd.read_csv(rhianne[i], dtype=dtypes)\n",
    "    bianca_pd = pd.read_csv(bianca[i], dtype=dtypes)\n",
    "    ##Here we cut down both arrays to be the same length\n",
    "    length=np.min((len(rhianne_pd),len(bianca_pd)))\n",
    "    rhianne_pd = rhianne_pd[:length]\n",
    "    bianca_pd = bianca_pd[:length]\n",
    "    rhianne_df = pd.concat((rhianne_pd,rhianne_df))\n",
    "    bianca_df = pd.concat((bianca_pd,bianca_df))"
   ]
  },
  {
   "cell_type": "markdown",
   "metadata": {},
   "source": [
    "**First we look at the total percentage of accuracy between the scorers. Note this includes significant portions of Nothing**"
   ]
  },
  {
   "cell_type": "code",
   "execution_count": 244,
   "metadata": {},
   "outputs": [
    {
     "name": "stdout",
     "output_type": "stream",
     "text": [
      "['Nothing' 'grooming' 'rearing' 'shaking' 'digging' 'jumping_4'\n",
      " 'jumping_2' 'tremors' 'shake']\n",
      "['Nothing' 'tremors' 'grooming' 'rearing' 'shaking' 'digging' 'jumping_4']\n"
     ]
    }
   ],
   "source": [
    "print(bianca_df['behaviour'].unique())\n",
    "\n",
    "print(rhianne_df['behaviour'].unique())\n"
   ]
  },
  {
   "cell_type": "code",
   "execution_count": 254,
   "metadata": {},
   "outputs": [
    {
     "name": "stderr",
     "output_type": "stream",
     "text": [
      "C:\\Users\\harry\\miniconda3\\envs\\tf_gpu\\lib\\site-packages\\ipykernel_launcher.py:1: SettingWithCopyWarning: \n",
      "A value is trying to be set on a copy of a slice from a DataFrame\n",
      "\n",
      "See the caveats in the documentation: https://pandas.pydata.org/pandas-docs/stable/user_guide/indexing.html#returning-a-view-versus-a-copy\n",
      "  \"\"\"Entry point for launching an IPython kernel.\n",
      "C:\\Users\\harry\\miniconda3\\envs\\tf_gpu\\lib\\site-packages\\ipykernel_launcher.py:2: SettingWithCopyWarning: \n",
      "A value is trying to be set on a copy of a slice from a DataFrame\n",
      "\n",
      "See the caveats in the documentation: https://pandas.pydata.org/pandas-docs/stable/user_guide/indexing.html#returning-a-view-versus-a-copy\n",
      "  \n",
      "C:\\Users\\harry\\miniconda3\\envs\\tf_gpu\\lib\\site-packages\\ipykernel_launcher.py:3: SettingWithCopyWarning: \n",
      "A value is trying to be set on a copy of a slice from a DataFrame\n",
      "\n",
      "See the caveats in the documentation: https://pandas.pydata.org/pandas-docs/stable/user_guide/indexing.html#returning-a-view-versus-a-copy\n",
      "  This is separate from the ipykernel package so we can avoid doing imports until\n",
      "C:\\Users\\harry\\miniconda3\\envs\\tf_gpu\\lib\\site-packages\\ipykernel_launcher.py:4: SettingWithCopyWarning: \n",
      "A value is trying to be set on a copy of a slice from a DataFrame\n",
      "\n",
      "See the caveats in the documentation: https://pandas.pydata.org/pandas-docs/stable/user_guide/indexing.html#returning-a-view-versus-a-copy\n",
      "  after removing the cwd from sys.path.\n",
      "C:\\Users\\harry\\miniconda3\\envs\\tf_gpu\\lib\\site-packages\\ipykernel_launcher.py:5: SettingWithCopyWarning: \n",
      "A value is trying to be set on a copy of a slice from a DataFrame\n",
      "\n",
      "See the caveats in the documentation: https://pandas.pydata.org/pandas-docs/stable/user_guide/indexing.html#returning-a-view-versus-a-copy\n",
      "  \"\"\"\n",
      "C:\\Users\\harry\\miniconda3\\envs\\tf_gpu\\lib\\site-packages\\ipykernel_launcher.py:7: SettingWithCopyWarning: \n",
      "A value is trying to be set on a copy of a slice from a DataFrame\n",
      "\n",
      "See the caveats in the documentation: https://pandas.pydata.org/pandas-docs/stable/user_guide/indexing.html#returning-a-view-versus-a-copy\n",
      "  import sys\n",
      "C:\\Users\\harry\\miniconda3\\envs\\tf_gpu\\lib\\site-packages\\ipykernel_launcher.py:8: SettingWithCopyWarning: \n",
      "A value is trying to be set on a copy of a slice from a DataFrame\n",
      "\n",
      "See the caveats in the documentation: https://pandas.pydata.org/pandas-docs/stable/user_guide/indexing.html#returning-a-view-versus-a-copy\n",
      "  \n",
      "C:\\Users\\harry\\miniconda3\\envs\\tf_gpu\\lib\\site-packages\\ipykernel_launcher.py:9: SettingWithCopyWarning: \n",
      "A value is trying to be set on a copy of a slice from a DataFrame\n",
      "\n",
      "See the caveats in the documentation: https://pandas.pydata.org/pandas-docs/stable/user_guide/indexing.html#returning-a-view-versus-a-copy\n",
      "  if __name__ == '__main__':\n",
      "C:\\Users\\harry\\miniconda3\\envs\\tf_gpu\\lib\\site-packages\\ipykernel_launcher.py:10: SettingWithCopyWarning: \n",
      "A value is trying to be set on a copy of a slice from a DataFrame\n",
      "\n",
      "See the caveats in the documentation: https://pandas.pydata.org/pandas-docs/stable/user_guide/indexing.html#returning-a-view-versus-a-copy\n",
      "  # Remove the CWD from sys.path while we load stuff.\n",
      "C:\\Users\\harry\\miniconda3\\envs\\tf_gpu\\lib\\site-packages\\ipykernel_launcher.py:11: SettingWithCopyWarning: \n",
      "A value is trying to be set on a copy of a slice from a DataFrame\n",
      "\n",
      "See the caveats in the documentation: https://pandas.pydata.org/pandas-docs/stable/user_guide/indexing.html#returning-a-view-versus-a-copy\n",
      "  # This is added back by InteractiveShellApp.init_path()\n",
      "C:\\Users\\harry\\miniconda3\\envs\\tf_gpu\\lib\\site-packages\\ipykernel_launcher.py:15: SettingWithCopyWarning: \n",
      "A value is trying to be set on a copy of a slice from a DataFrame\n",
      "\n",
      "See the caveats in the documentation: https://pandas.pydata.org/pandas-docs/stable/user_guide/indexing.html#returning-a-view-versus-a-copy\n",
      "  from ipykernel import kernelapp as app\n",
      "C:\\Users\\harry\\miniconda3\\envs\\tf_gpu\\lib\\site-packages\\ipykernel_launcher.py:16: SettingWithCopyWarning: \n",
      "A value is trying to be set on a copy of a slice from a DataFrame\n",
      "\n",
      "See the caveats in the documentation: https://pandas.pydata.org/pandas-docs/stable/user_guide/indexing.html#returning-a-view-versus-a-copy\n",
      "  app.launch_new_instance()\n",
      "C:\\Users\\harry\\miniconda3\\envs\\tf_gpu\\lib\\site-packages\\ipykernel_launcher.py:17: SettingWithCopyWarning: \n",
      "A value is trying to be set on a copy of a slice from a DataFrame\n",
      "\n",
      "See the caveats in the documentation: https://pandas.pydata.org/pandas-docs/stable/user_guide/indexing.html#returning-a-view-versus-a-copy\n",
      "C:\\Users\\harry\\miniconda3\\envs\\tf_gpu\\lib\\site-packages\\ipykernel_launcher.py:18: SettingWithCopyWarning: \n",
      "A value is trying to be set on a copy of a slice from a DataFrame\n",
      "\n",
      "See the caveats in the documentation: https://pandas.pydata.org/pandas-docs/stable/user_guide/indexing.html#returning-a-view-versus-a-copy\n",
      "C:\\Users\\harry\\miniconda3\\envs\\tf_gpu\\lib\\site-packages\\ipykernel_launcher.py:19: SettingWithCopyWarning: \n",
      "A value is trying to be set on a copy of a slice from a DataFrame\n",
      "\n",
      "See the caveats in the documentation: https://pandas.pydata.org/pandas-docs/stable/user_guide/indexing.html#returning-a-view-versus-a-copy\n",
      "C:\\Users\\harry\\miniconda3\\envs\\tf_gpu\\lib\\site-packages\\ipykernel_launcher.py:21: SettingWithCopyWarning: \n",
      "A value is trying to be set on a copy of a slice from a DataFrame\n",
      "\n",
      "See the caveats in the documentation: https://pandas.pydata.org/pandas-docs/stable/user_guide/indexing.html#returning-a-view-versus-a-copy\n",
      "C:\\Users\\harry\\miniconda3\\envs\\tf_gpu\\lib\\site-packages\\ipykernel_launcher.py:22: SettingWithCopyWarning: \n",
      "A value is trying to be set on a copy of a slice from a DataFrame\n",
      "\n",
      "See the caveats in the documentation: https://pandas.pydata.org/pandas-docs/stable/user_guide/indexing.html#returning-a-view-versus-a-copy\n",
      "C:\\Users\\harry\\miniconda3\\envs\\tf_gpu\\lib\\site-packages\\ipykernel_launcher.py:23: SettingWithCopyWarning: \n",
      "A value is trying to be set on a copy of a slice from a DataFrame\n",
      "\n",
      "See the caveats in the documentation: https://pandas.pydata.org/pandas-docs/stable/user_guide/indexing.html#returning-a-view-versus-a-copy\n",
      "C:\\Users\\harry\\miniconda3\\envs\\tf_gpu\\lib\\site-packages\\ipykernel_launcher.py:24: SettingWithCopyWarning: \n",
      "A value is trying to be set on a copy of a slice from a DataFrame\n",
      "\n",
      "See the caveats in the documentation: https://pandas.pydata.org/pandas-docs/stable/user_guide/indexing.html#returning-a-view-versus-a-copy\n",
      "C:\\Users\\harry\\miniconda3\\envs\\tf_gpu\\lib\\site-packages\\ipykernel_launcher.py:25: SettingWithCopyWarning: \n",
      "A value is trying to be set on a copy of a slice from a DataFrame\n",
      "\n",
      "See the caveats in the documentation: https://pandas.pydata.org/pandas-docs/stable/user_guide/indexing.html#returning-a-view-versus-a-copy\n",
      "C:\\Users\\harry\\miniconda3\\envs\\tf_gpu\\lib\\site-packages\\ipykernel_launcher.py:26: SettingWithCopyWarning: \n",
      "A value is trying to be set on a copy of a slice from a DataFrame\n",
      "\n",
      "See the caveats in the documentation: https://pandas.pydata.org/pandas-docs/stable/user_guide/indexing.html#returning-a-view-versus-a-copy\n"
     ]
    }
   ],
   "source": [
    "bianca_df['behaviour'][bianca_df['behaviour']=='jumping_2'] = 'jumping'\n",
    "bianca_df['behaviour'][bianca_df['behaviour']=='jumping_4'] = 'jumping'\n",
    "rhianne_df['behaviour'][rhianne_df['behaviour']=='jumping_4'] = 'jumping'\n",
    "bianca_df['behaviour'][bianca_df['behaviour']=='shake'] = 'Nothing'\n",
    "bianca_df['behaviour'][bianca_df['behaviour']=='shaking'] = 'Nothing'\n",
    "\n",
    "rhianne_df['behaviour'][rhianne_df['behaviour']=='shaking'] = 'Nothing'\n",
    "bianca_df['behaviour'][bianca_df['behaviour']=='digging'] = 'grooming'\n",
    "rhianne_df['behaviour'][rhianne_df['behaviour']=='digging'] = 'grooming'\n",
    "bianca_df['behaviour'][bianca_df['behaviour']=='tremors'] = 'grooming'\n",
    "rhianne_df['behaviour'][rhianne_df['behaviour']=='tremors'] = 'grooming'\n",
    "\n",
    "\n",
    "\n",
    "bianca_df['hit'][bianca_df['hit']=='jumping_2'] = 'jumping'\n",
    "bianca_df['hit'][bianca_df['hit']=='jumping_4'] = 'jumping'\n",
    "rhianne_df['hit'][rhianne_df['hit']=='jumping_4'] = 'jumping'\n",
    "bianca_df['hit'][bianca_df['hit']=='shake'] = 'Nothing'\n",
    "bianca_df['hit'][bianca_df['hit']=='shaking'] = 'Nothing'\n",
    "\n",
    "rhianne_df['hit'][rhianne_df['hit']=='shaking'] = 'Nothing'\n",
    "bianca_df['hit'][bianca_df['hit']=='digging'] = 'grooming'\n",
    "bianca_df['hit'][bianca_df['hit']=='tremors'] = 'grooming'\n",
    "bianca_df['hit'][bianca_df['hit']=='tremors'] = 'grooming'\n",
    "rhianne_df['hit'][rhianne_df['hit']=='tremors'] = 'grooming'\n",
    "rhianne_df['hit'][rhianne_df['hit']=='digging'] = 'Nothing'"
   ]
  },
  {
   "cell_type": "code",
   "execution_count": 255,
   "metadata": {},
   "outputs": [
    {
     "name": "stdout",
     "output_type": "stream",
     "text": [
      "Rhianne scored a total of 441.0 behaviours\n",
      "Bianca scored a total of 628.0 behaviours\n"
     ]
    }
   ],
   "source": [
    "print(\"Rhianne scored a total of {} behaviours\".format(np.sum((rhianne_df['freq'].values)[~np.isnan(rhianne_df['freq'].values)])))\n",
    "print(\"Bianca scored a total of {} behaviours\".format(np.sum((bianca_df['freq'].values)[~np.isnan(bianca_df['freq'].values)])))\n"
   ]
  },
  {
   "cell_type": "code",
   "execution_count": 261,
   "metadata": {},
   "outputs": [
    {
     "name": "stdout",
     "output_type": "stream",
     "text": [
      "[nan 'grooming' 'Nothing' 'rearing' 'jumping']\n",
      "[nan 'grooming' 'Nothing' 'rearing' 'jumping']\n"
     ]
    }
   ],
   "source": [
    "print(bianca_df['hit'].unique())\n",
    "\n",
    "print(rhianne_df['hit'].unique())\n"
   ]
  },
  {
   "cell_type": "code",
   "execution_count": 262,
   "metadata": {},
   "outputs": [],
   "source": [
    "length=len(bianca_df)"
   ]
  },
  {
   "cell_type": "code",
   "execution_count": 263,
   "metadata": {},
   "outputs": [
    {
     "data": {
      "text/plain": [
       "0.8935036154705843"
      ]
     },
     "execution_count": 263,
     "metadata": {},
     "output_type": "execute_result"
    }
   ],
   "source": [
    "##percentage agreement overall\n",
    "np.sum(rhianne_df['behaviour']==bianca_df['behaviour'])/length"
   ]
  },
  {
   "cell_type": "code",
   "execution_count": 276,
   "metadata": {},
   "outputs": [],
   "source": [
    "def get_rater_agreement(rhianne_df, bianca_df, behaviour):\n",
    "    ##Here we get the parts of rhiannes data that equal Nothing\n",
    "    rhianne_behaviours = rhianne_df['hit']==behaviour\n",
    "    ##And the same for bianca\n",
    "    bianca_behaviours = bianca_df['hit']==behaviour\n",
    "\n",
    "    ##Now we look at the percentage of agreement between the two raters while Rhianne was not scoring a behaviour\n",
    "    B_agree_R = np.sum(rhianne_df['hit'][rhianne_behaviours]==bianca_df['hit'][rhianne_behaviours])/np.sum(rhianne_behaviours)\n",
    "    ##Now we look at the percentage of agreement between the two raters while Bianca was not scoring a behaviour\n",
    "    R_agree_B = np.sum(bianca_df['hit'][bianca_behaviours]==rhianne_df['hit'][bianca_behaviours])/np.sum(bianca_behaviours)\n",
    "\n",
    "    print(\"For {} Bianca agreed with Rhianne {} percent of the time and Rhianne agreed with Bianca {} percent of the time\".format(behaviour,B_agree_R, R_agree_B))\n",
    "    print(\"this results in an average agreement of {}\".format(np.mean((B_agree_R, R_agree_B))))"
   ]
  },
  {
   "cell_type": "code",
   "execution_count": 277,
   "metadata": {},
   "outputs": [],
   "source": [
    "def get_rater_agreement_within_window(rhianne_df, bianca_df, behaviour,window):\n",
    "    ##Here we get the parts of rhiannes data that equal Nothing\n",
    "    rhianne_behaviours = np.array(rhianne_df['hit']==behaviour)\n",
    "    ##And the same for bianca\n",
    "    bianca_behaviours = np.array(bianca_df['hit']==behaviour)\n",
    "    rhianne_indexes=np.where(rhianne_behaviours==True)[0]\n",
    "    bianca_indexes=np.where(bianca_behaviours==True)[0]\n",
    "    Rcount = 0\n",
    "    Bcount = 0\n",
    "    rhianne_df['hit']\n",
    "    rhianne_df_values = (np.array(rhianne_df['hit']))\n",
    "    bianca_df_values = (np.array(bianca_df['hit']))\n",
    "    window=int(window/2)\n",
    "    for i in tqdm(rhianne_indexes):\n",
    "        if any(rhianne_df_values[i]==bianca_df_values[i-window:i+window]):\n",
    "            Rcount+=1\n",
    "\n",
    "    print(\"If Rhianne scored {} there was a {} percent chance Bianca also scored that behaviour within the same {} frames\\n\\n\".format(behaviour,Rcount/len(rhianne_indexes),window*2))\n",
    "\n",
    "    Bcount = 0\n",
    "    for i in tqdm(bianca_indexes):\n",
    "        if any(bianca_df_values[i]==rhianne_df_values[i-window:i+window]):\n",
    "            Bcount+=1\n",
    "    print(\"Conversely if Bianca scored {} there was a {} percent chance Rhianne also scored that behaviour \\nwithin the same {} frames\".format(behaviour,Bcount/len(bianca_indexes),window*2))\n",
    "    print(\"this results in an average agreement of {}\".format(np.mean((Rcount/len(rhianne_indexes),Bcount/len(bianca_indexes)))))"
   ]
  },
  {
   "cell_type": "code",
   "execution_count": 278,
   "metadata": {},
   "outputs": [
    {
     "name": "stdout",
     "output_type": "stream",
     "text": [
      "For Nothing Bianca agreed with Rhianne 0.009070294784580499 percent of the time and Rhianne agreed with Bianca 0.0068143100511073255 percent of the time\n",
      "this results in an average agreement of 0.007942302417843912\n"
     ]
    }
   ],
   "source": [
    "get_rater_agreement(rhianne_df, bianca_df, \"Nothing\")"
   ]
  },
  {
   "cell_type": "code",
   "execution_count": 279,
   "metadata": {},
   "outputs": [
    {
     "name": "stdout",
     "output_type": "stream",
     "text": [
      "For Nothing Bianca agreed with Rhianne 0.009070294784580499 percent of the time and Rhianne agreed with Bianca 0.0068143100511073255 percent of the time\n",
      "this results in an average agreement of 0.007942302417843912\n",
      "For grooming Bianca agreed with Rhianne 0.009900990099009901 percent of the time and Rhianne agreed with Bianca 0.0044444444444444444 percent of the time\n",
      "this results in an average agreement of 0.007172717271727172\n",
      "For rearing Bianca agreed with Rhianne 0.007042253521126761 percent of the time and Rhianne agreed with Bianca 0.005681818181818182 percent of the time\n",
      "this results in an average agreement of 0.006362035851472471\n",
      "For jumping Bianca agreed with Rhianne 0.011764705882352941 percent of the time and Rhianne agreed with Bianca 0.011627906976744186 percent of the time\n",
      "this results in an average agreement of 0.011696306429548563\n"
     ]
    }
   ],
   "source": [
    "for behaviour in (bianca_df['behaviour'].unique()):\n",
    "    get_rater_agreement(rhianne_df, bianca_df, behaviour)\n"
   ]
  },
  {
   "cell_type": "code",
   "execution_count": 280,
   "metadata": {},
   "outputs": [
    {
     "name": "stderr",
     "output_type": "stream",
     "text": [
      "100%|███████████████████████████████████████████████████████████████████████████| 441/441 [00:00<00:00, 23451.77it/s]\n",
      "100%|███████████████████████████████████████████████████████████████████████████| 587/587 [00:00<00:00, 43303.37it/s]\n",
      "100%|███████████████████████████████████████████████████████████████████████████| 101/101 [00:00<00:00, 13422.41it/s]\n",
      "100%|███████████████████████████████████████████████████████████████████████████| 225/225 [00:00<00:00, 73883.85it/s]\n",
      "  0%|                                                                                        | 0/142 [00:00<?, ?it/s]"
     ]
    },
    {
     "name": "stdout",
     "output_type": "stream",
     "text": [
      "If Rhianne scored Nothing there was a 0.8140589569160998 percent chance Bianca also scored that behaviour within the same 180 frames\n",
      "\n",
      "\n",
      "Conversely if Bianca scored Nothing there was a 0.637137989778535 percent chance Rhianne also scored that behaviour \n",
      "within the same 180 frames\n",
      "this results in an average agreement of 0.7255984733473173\n",
      "If Rhianne scored grooming there was a 0.49504950495049505 percent chance Bianca also scored that behaviour within the same 180 frames\n",
      "\n",
      "\n",
      "Conversely if Bianca scored grooming there was a 0.24888888888888888 percent chance Rhianne also scored that behaviour \n",
      "within the same 180 frames\n",
      "this results in an average agreement of 0.371969196919692\n"
     ]
    },
    {
     "name": "stderr",
     "output_type": "stream",
     "text": [
      "100%|██████████████████████████████████████████████████████████████████████████████████████| 142/142 [00:00<?, ?it/s]\n",
      "100%|██████████████████████████████████████████████████████████████████████████████████████| 176/176 [00:00<?, ?it/s]\n",
      "100%|███████████████████████████████████████████████████████████████████████████| 170/170 [00:00<00:00, 17600.07it/s]\n",
      "100%|███████████████████████████████████████████████████████████████████████████| 172/172 [00:00<00:00, 27006.34it/s]"
     ]
    },
    {
     "name": "stdout",
     "output_type": "stream",
     "text": [
      "If Rhianne scored rearing there was a 0.8943661971830986 percent chance Bianca also scored that behaviour within the same 180 frames\n",
      "\n",
      "\n",
      "Conversely if Bianca scored rearing there was a 0.7443181818181818 percent chance Rhianne also scored that behaviour \n",
      "within the same 180 frames\n",
      "this results in an average agreement of 0.8193421895006402\n",
      "If Rhianne scored jumping there was a 0.9764705882352941 percent chance Bianca also scored that behaviour within the same 180 frames\n",
      "\n",
      "\n",
      "Conversely if Bianca scored jumping there was a 0.9651162790697675 percent chance Rhianne also scored that behaviour \n",
      "within the same 180 frames\n",
      "this results in an average agreement of 0.9707934336525308\n"
     ]
    },
    {
     "name": "stderr",
     "output_type": "stream",
     "text": [
      "\n"
     ]
    }
   ],
   "source": [
    "for behaviour in (bianca_df['behaviour'].unique()):\n",
    "        get_rater_agreement_within_window(rhianne_df, bianca_df, behaviour,window=180)\n",
    "\n",
    "        "
   ]
  },
  {
   "cell_type": "markdown",
   "metadata": {},
   "source": [
    "***DONT GO BEYOND HERE***\n",
    "\n",
    "\n",
    "\n",
    "**Next we look at the percentage agreement when scoring behaviour**\n"
   ]
  },
  {
   "cell_type": "code",
   "execution_count": 281,
   "metadata": {},
   "outputs": [
    {
     "name": "stdout",
     "output_type": "stream",
     "text": [
      "Bianca agreed with Rhianne 7.648125062141016e-06 percent of the time and Rhianne agreed with Bianca 7.65026068263276e-06 percent of the time\n"
     ]
    }
   ],
   "source": [
    "##Here we get the parts of rhiannes data that dont equal Nothing\n",
    "rhianne_behaviours = rhianne_df['hit']!='Nothing'\n",
    "##And the same for bianca\n",
    "bianca_behaviours = bianca_df['hit']!='Nothing'\n",
    "\n",
    "##Now we look at the percentage of agreement between the two raters while Rhianne was scoring a behaviour\n",
    "B_agree_R = np.sum(rhianne_df['hit'][rhianne_behaviours]==bianca_df['hit'][rhianne_behaviours])/np.sum(rhianne_behaviours)\n",
    "##Now we look at the percentage of agreement between the two raters while Bianca was scoring a behaviour\n",
    "R_agree_B = np.sum(bianca_df['hit'][bianca_behaviours]==rhianne_df['hit'][bianca_behaviours])/np.sum(bianca_behaviours)\n",
    "\n",
    "print(\"Bianca agreed with Rhianne {} percent of the time and Rhianne agreed with Bianca {} percent of the time\".format(B_agree_R, R_agree_B))"
   ]
  },
  {
   "cell_type": "markdown",
   "metadata": {},
   "source": [
    "**OK, so this looks low but Human reaction times are variable. So lets make an agreement window of half a second and consider any \n",
    "behaviours which have a inter-rater match within that window to be in agreement**"
   ]
  },
  {
   "cell_type": "code",
   "execution_count": 282,
   "metadata": {},
   "outputs": [],
   "source": [
    "rhianne_indexes=np.where(rhianne_behaviours==True)[0]\n",
    "bianca_indexes=np.where(bianca_behaviours==True)[0]"
   ]
  },
  {
   "cell_type": "code",
   "execution_count": null,
   "metadata": {},
   "outputs": [],
   "source": [
    "count = 0\n",
    "for i in rhianne_indexes:\n",
    "    if any(rhianne_df['hit'].values[i]==bianca_df['hit'][i-22:i+22]):\n",
    "        count+=1\n",
    "        \n",
    "print(\"If Rhianne scored a behaviour there was a {} percent chance Bianca also scored that behaviour within the same half second\\n\\n\".format(count/len(rhianne_indexes)))\n",
    "\n",
    "count = 0\n",
    "for i in bianca_indexes:\n",
    "    if any(bianca_df['hit'].values[i]==rhianne_df['hit'][i-22:i+22]):\n",
    "        count+=1\n",
    "print(\"Conversely if Bianca scored a behaviour there was a {} percent chance Rhianne also scored that behaviour \\nwithin the same half second\".format(count/len(bianca_indexes)))"
   ]
  },
  {
   "cell_type": "markdown",
   "metadata": {},
   "source": [
    "**Lets now expand the window to two seconds**"
   ]
  },
  {
   "cell_type": "code",
   "execution_count": null,
   "metadata": {},
   "outputs": [],
   "source": [
    "countR = 0\n",
    "for i in rhianne_indexes:\n",
    "    if any(rhianne_df['hit'].values[i]==bianca_df['hit'][i-90:i+90]):\n",
    "        countR+=1\n",
    "        \n",
    "print(\"If Rhianne scored a behaviour there was a {} percent chance Bianca also scored that behaviour within two seconds\\n\\n\".format(countR/len(rhianne_indexes)))\n",
    "\n",
    "countB = 0\n",
    "for i in bianca_indexes:\n",
    "    if any(bianca_df['hit'].values[i]==rhianne_df['hit'][i-90:i+90]):\n",
    "        countB+=1\n",
    "print(\"Conversely if Bianca scored a behaviour there was a {} percent chance Rhianne also scored that behaviour \\n within two seconds\".format(countB/len(bianca_indexes)))"
   ]
  },
  {
   "cell_type": "code",
   "execution_count": null,
   "metadata": {},
   "outputs": [],
   "source": [
    "print(np.mean(((countB/len(bianca_indexes)),countR/len(rhianne_indexes))))"
   ]
  },
  {
   "cell_type": "code",
   "execution_count": 274,
   "metadata": {},
   "outputs": [
    {
     "name": "stdout",
     "output_type": "stream",
     "text": [
      "If Rhianne scored a behaviour there was a 0.9072315164597949 percent chance Bianca also scored that behaviour within five seconds\n",
      "\n",
      "\n",
      "Conversely if Bianca scored a behaviour there was a 0.6221891611263503 percent chance Rhianne also scored that behaviour \n",
      " within five seconds\n"
     ]
    }
   ],
   "source": [
    "countR = 0\n",
    "for i in rhianne_indexes:\n",
    "    if any(rhianne_df['behaviour'].values[i]==bianca_df['behaviour'][i-225:i+225]):\n",
    "        countR+=1\n",
    "        \n",
    "print(\"If Rhianne scored a behaviour there was a {} percent chance Bianca also scored that behaviour within five seconds\\n\\n\".format(countR/len(rhianne_indexes)))\n",
    "\n",
    "countB = 0\n",
    "for i in bianca_indexes:\n",
    "    if any(bianca_df['behaviour'].values[i]==rhianne_df['behaviour'][i-225:i+225]):\n",
    "        countB+=1\n",
    "print(\"Conversely if Bianca scored a behaviour there was a {} percent chance Rhianne also scored that behaviour \\n within five seconds\".format(countB/len(bianca_indexes)))"
   ]
  },
  {
   "cell_type": "code",
   "execution_count": 283,
   "metadata": {},
   "outputs": [
    {
     "name": "stdout",
     "output_type": "stream",
     "text": [
      "Bianca was the more conservative scorer, identifying behaviours on only 522858 frames compared to 523004 for Rhianne\n"
     ]
    }
   ],
   "source": [
    "conservative_scorer = 'Bianca' if len(bianca_indexes)<len(rhianne_indexes) else 'Rhianne'\n",
    "liberal_scorer = 'Bianca' if len(bianca_indexes)>len(rhianne_indexes) else 'Rhianne'\n",
    "print(\"{} was the more conservative scorer, identifying behaviours on only {} frames compared to {} for {}\".format(conservative_scorer, np.min((len(bianca_indexes), len(rhianne_indexes))),\\\n",
    "                                                                                                                   np.max((len(bianca_indexes), len(rhianne_indexes))),liberal_scorer))"
   ]
  },
  {
   "cell_type": "code",
   "execution_count": 13,
   "metadata": {},
   "outputs": [
    {
     "data": {
      "text/plain": [
       "0.03589488867025189"
      ]
     },
     "execution_count": 13,
     "metadata": {},
     "output_type": "execute_result"
    }
   ],
   "source": [
    "np.sum(rhianne_behaviours)/len(rhianne_df['behaviour'])\n",
    "\n"
   ]
  }
 ],
 "metadata": {
  "kernelspec": {
   "display_name": "Python 3",
   "language": "python",
   "name": "python3"
  },
  "language_info": {
   "codemirror_mode": {
    "name": "ipython",
    "version": 3
   },
   "file_extension": ".py",
   "mimetype": "text/x-python",
   "name": "python",
   "nbconvert_exporter": "python",
   "pygments_lexer": "ipython3",
   "version": "3.7.7"
  }
 },
 "nbformat": 4,
 "nbformat_minor": 4
}
