{
 "cells": [
  {
   "cell_type": "code",
   "execution_count": 1,
   "metadata": {},
   "outputs": [],
   "source": [
    "import matplotlib.pyplot as plt\n",
    "import pandas as pd\n",
    "import numpy as np"
   ]
  },
  {
   "cell_type": "code",
   "execution_count": 64,
   "metadata": {},
   "outputs": [],
   "source": [
    "def pad(arr1, arr2):\n",
    "    max_num = max((len(arr1),len(arr2)))\n",
    "    if  min((len(arr1),len(arr2))) == 0:\n",
    "        if len(arr1)<max_num:\n",
    "            return np.zeros(len(arr2)), arr2\n",
    "        if len(arr2)<max_num:\n",
    "            return arr1, np.zeros(len(arr1))\n",
    "    if len(arr1)<max_num:\n",
    "        ext =  [arr1[-1]]*(max_num-len(arr1))\n",
    "        ext = np.array(ext)\n",
    "        arr1 = np.append(arr1,ext)\n",
    "    if len(arr2)<max_num:\n",
    "        ext =  [arr2[-1]]*(max_num-len(arr2))\n",
    "        ext = np.array(ext)\n",
    "        arr2 = np.append(arr2,ext)\n",
    "    return arr1, arr2\n",
    "    "
   ]
  },
  {
   "cell_type": "code",
   "execution_count": 50,
   "metadata": {},
   "outputs": [
    {
     "ename": "ValueError",
     "evalue": "all input arrays must have the same shape",
     "output_type": "error",
     "traceback": [
      "\u001b[1;31m---------------------------------------------------------------------------\u001b[0m",
      "\u001b[1;31mValueError\u001b[0m                                Traceback (most recent call last)",
      "\u001b[1;32m<ipython-input-50-57006d4490cc>\u001b[0m in \u001b[0;36m<module>\u001b[1;34m\u001b[0m\n\u001b[1;32m----> 1\u001b[1;33m \u001b[0mnp\u001b[0m\u001b[1;33m.\u001b[0m\u001b[0mstack\u001b[0m\u001b[1;33m(\u001b[0m\u001b[1;33m(\u001b[0m\u001b[0mnp\u001b[0m\u001b[1;33m.\u001b[0m\u001b[0mzeros\u001b[0m\u001b[1;33m(\u001b[0m\u001b[1;36m0\u001b[0m\u001b[1;33m)\u001b[0m\u001b[1;33m,\u001b[0m \u001b[0mnp\u001b[0m\u001b[1;33m.\u001b[0m\u001b[0mzeros\u001b[0m\u001b[1;33m(\u001b[0m\u001b[1;36m9\u001b[0m\u001b[1;33m)\u001b[0m\u001b[1;33m)\u001b[0m\u001b[1;33m)\u001b[0m\u001b[1;33m\u001b[0m\u001b[1;33m\u001b[0m\u001b[0m\n\u001b[0m",
      "\u001b[1;32m<__array_function__ internals>\u001b[0m in \u001b[0;36mstack\u001b[1;34m(*args, **kwargs)\u001b[0m\n",
      "\u001b[1;32m~\\miniconda3\\envs\\ROI_ENV\\lib\\site-packages\\numpy\\core\\shape_base.py\u001b[0m in \u001b[0;36mstack\u001b[1;34m(arrays, axis, out)\u001b[0m\n\u001b[0;32m    424\u001b[0m     \u001b[0mshapes\u001b[0m \u001b[1;33m=\u001b[0m \u001b[1;33m{\u001b[0m\u001b[0marr\u001b[0m\u001b[1;33m.\u001b[0m\u001b[0mshape\u001b[0m \u001b[1;32mfor\u001b[0m \u001b[0marr\u001b[0m \u001b[1;32min\u001b[0m \u001b[0marrays\u001b[0m\u001b[1;33m}\u001b[0m\u001b[1;33m\u001b[0m\u001b[1;33m\u001b[0m\u001b[0m\n\u001b[0;32m    425\u001b[0m     \u001b[1;32mif\u001b[0m \u001b[0mlen\u001b[0m\u001b[1;33m(\u001b[0m\u001b[0mshapes\u001b[0m\u001b[1;33m)\u001b[0m \u001b[1;33m!=\u001b[0m \u001b[1;36m1\u001b[0m\u001b[1;33m:\u001b[0m\u001b[1;33m\u001b[0m\u001b[1;33m\u001b[0m\u001b[0m\n\u001b[1;32m--> 426\u001b[1;33m         \u001b[1;32mraise\u001b[0m \u001b[0mValueError\u001b[0m\u001b[1;33m(\u001b[0m\u001b[1;34m'all input arrays must have the same shape'\u001b[0m\u001b[1;33m)\u001b[0m\u001b[1;33m\u001b[0m\u001b[1;33m\u001b[0m\u001b[0m\n\u001b[0m\u001b[0;32m    427\u001b[0m \u001b[1;33m\u001b[0m\u001b[0m\n\u001b[0;32m    428\u001b[0m     \u001b[0mresult_ndim\u001b[0m \u001b[1;33m=\u001b[0m \u001b[0marrays\u001b[0m\u001b[1;33m[\u001b[0m\u001b[1;36m0\u001b[0m\u001b[1;33m]\u001b[0m\u001b[1;33m.\u001b[0m\u001b[0mndim\u001b[0m \u001b[1;33m+\u001b[0m \u001b[1;36m1\u001b[0m\u001b[1;33m\u001b[0m\u001b[1;33m\u001b[0m\u001b[0m\n",
      "\u001b[1;31mValueError\u001b[0m: all input arrays must have the same shape"
     ]
    }
   ],
   "source": [
    "np.stack((np.zeros(0), np.zeros(9)))"
   ]
  },
  {
   "cell_type": "code",
   "execution_count": 59,
   "metadata": {},
   "outputs": [
    {
     "data": {
      "text/plain": [
       "[nan, nan, nan, nan, nan, nan, nan, nan]"
      ]
     },
     "execution_count": 59,
     "metadata": {},
     "output_type": "execute_result"
    }
   ],
   "source": [
    "[np.nan]*8"
   ]
  },
  {
   "cell_type": "code",
   "execution_count": null,
   "metadata": {},
   "outputs": [],
   "source": [
    "folder = r'C:\\Users\\harry\\Documents\\biancav_newlstm_raster/'\n"
   ]
  },
  {
   "cell_type": "code",
   "execution_count": 34,
   "metadata": {},
   "outputs": [
    {
     "name": "stderr",
     "output_type": "stream",
     "text": [
      "<ipython-input-34-a0d028860347>:12: UserWarning: Matplotlib is currently using module://ipykernel.pylab.backend_inline, which is a non-GUI backend, so cannot show the figure.\n",
      "  fig.show()\n"
     ]
    },
    {
     "data": {
      "image/png": "[encoded data removed]",
      "text/plain": [
       "<Figure size 432x288 with 2 Axes>"
      ]
     },
     "metadata": {
      "needs_background": "light"
     },
     "output_type": "display_data"
    }
   ],
   "source": [
    "\n",
    "lstm_file = pd.read_csv(folder+'harry_validated_lstm_animal_7_4_20210107-214951_scored_behaviour.csv')\n",
    "bianca_file = pd.read_csv(folder+'normalised_files7-4_BW_20200724-145600_scored_behaviour.csv')\n",
    "\n",
    "\n",
    "lstm_file_hits = np.where(lstm_file.hits=='trem')\n",
    "bianca_file_hits = np.where(bianca_file.hits=='tremors')\n",
    "lstm_file_behaviour = np.where(lstm_file.behaviour=='trem')\n",
    "bianca_file_behaviour = np.where(bianca_file.behaviour=='tremors')\n",
    "\n",
    "fig, axs = plt.subplots(2)\n",
    "hitarr1, hitarr2 = pad(lstm_file_hits[0],bianca_file_hits[0])\n",
    "axs[0].eventplot(np.stack((hitarr1, hitarr2)), colors = ['red', 'blue'])\n",
    "axs[0].set_title('frequency')\n",
    "beharr1, beharr2 = pad(lstm_file_behaviour[0],bianca_file_behaviour[0])\n",
    "axs[1].eventplot(np.stack((beharr1, beharr2)), colors = ['red', 'blue'])\n",
    "axs[1].set_title('duration')\n",
    "fig.legend(['lstm', 'bianca'], ncol=2)\n",
    "fig.suptitle('7.4 comparison')\n",
    "fig.tight_layout()\n",
    "fig.savefig('7_4_comparison.jpg', dpi=300)\n",
    "fig.show()"
   ]
  },
  {
   "cell_type": "code",
   "execution_count": 87,
   "metadata": {},
   "outputs": [
    {
     "name": "stdout",
     "output_type": "stream",
     "text": [
      "[nan 'trem' 'Nothing' '37.11518519']\n"
     ]
    },
    {
     "name": "stderr",
     "output_type": "stream",
     "text": [
      "<ipython-input-87-37c081fd4e39>:27: UserWarning: Matplotlib is currently using module://ipykernel.pylab.backend_inline, which is a non-GUI backend, so cannot show the figure.\n",
      "  fig.show()\n"
     ]
    },
    {
     "data": {
      "image/png": "[encoded data removed]",
      "text/plain": [
       "<Figure size 432x288 with 2 Axes>"
      ]
     },
     "metadata": {
      "needs_background": "light"
     },
     "output_type": "display_data"
    }
   ],
   "source": [
    "\n",
    "lstm_file = pd.read_csv(folder+'harry_confirmed_lstm_5.4_20210107-213040_scored_behaviour.csv')\n",
    "bianca_file = pd.read_csv(folder+'normalised_files5-4_BW_20200722-152102_scored_behaviour.csv')\n",
    "rhianne_file = pd.read_csv(r'C:\\Users\\harry\\Documents\\Manually-Labelled-Raw-Data\\r2/M5.4(Cam10)_20200722-185620_scored_behaviour.csv')\n",
    "print(lstm_file.hits.unique())\n",
    "\n",
    "lstm_file_hits = np.where(lstm_file.hits=='trem')\n",
    "bianca_file_hits = np.where(bianca_file.hits=='tremors')\n",
    "rhianne_file_hits = np.where(rhianne_file.hits=='tremor')\n",
    "\n",
    "lstm_file_behaviour = np.where(lstm_file.behaviour=='trem')\n",
    "bianca_file_behaviour = np.where(bianca_file.behaviour=='tremors')\n",
    "rhianne_file_behaviour = np.where(rhianne_file.behaviour=='tremor')\n",
    "\n",
    "fig, axs = plt.subplots(2)\n",
    "hitarr1, hitarr2 = pad(lstm_file_hits[0],rhianne_file_hits[0])\n",
    "hitarr2, hitarr3 = pad(rhianne_file_hits[0], bianca_file_hits[0])\n",
    "axs[0].eventplot(np.stack((hitarr1, hitarr2, hitarr3)), colors = ['red', 'blue', 'pink'])\n",
    "axs[0].set_title('frequency')\n",
    "beharr1, beharr2 = pad(lstm_file_behaviour[0],bianca_file_behaviour[0])\n",
    "beharr3, beharr2 = pad(beharr2, rhianne_file_behaviour[0])\n",
    "axs[1].eventplot(np.stack((beharr1, beharr2, beharr3)), colors = ['red', 'blue', 'pink'])\n",
    "axs[1].set_title('duration')\n",
    "fig.legend(['lstm', 'rhianne', 'bianca'], ncol=3)\n",
    "fig.suptitle('5.4 comparison')\n",
    "fig.tight_layout()\n",
    "fig.savefig('5.4_comparison.jpg', dpi=300)\n",
    "fig.show()"
   ]
  },
  {
   "cell_type": "code",
   "execution_count": 84,
   "metadata": {},
   "outputs": [
    {
     "data": {
      "text/plain": [
       "(63,)"
      ]
     },
     "execution_count": 84,
     "metadata": {},
     "output_type": "execute_result"
    }
   ],
   "source": [
    "hitarr2.shape"
   ]
  },
  {
   "cell_type": "code",
   "execution_count": 69,
   "metadata": {},
   "outputs": [
    {
     "data": {
      "text/plain": [
       "199258"
      ]
     },
     "execution_count": 69,
     "metadata": {},
     "output_type": "execute_result"
    }
   ],
   "source": [
    "len(rhianne_file)"
   ]
  },
  {
   "cell_type": "code",
   "execution_count": 71,
   "metadata": {},
   "outputs": [
    {
     "data": {
      "text/plain": [
       "200423"
      ]
     },
     "execution_count": 71,
     "metadata": {},
     "output_type": "execute_result"
    }
   ],
   "source": [
    "len(lstm_file)"
   ]
  },
  {
   "cell_type": "code",
   "execution_count": null,
   "metadata": {},
   "outputs": [],
   "source": []
  }
 ],
 "metadata": {
  "kernelspec": {
   "display_name": "Python 3",
   "language": "python",
   "name": "python3"
  },
  "language_info": {
   "codemirror_mode": {
    "name": "ipython",
    "version": 3
   },
   "file_extension": ".py",
   "mimetype": "text/x-python",
   "name": "python",
   "nbconvert_exporter": "python",
   "pygments_lexer": "ipython3",
   "version": "3.8.2"
  }
 },
 "nbformat": 4,
 "nbformat_minor": 4
}
